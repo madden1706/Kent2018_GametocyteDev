{
 "cells": [
  {
   "cell_type": "code",
   "execution_count": 1,
   "metadata": {},
   "outputs": [],
   "source": [
    "import numpy as np\n",
    "#from sklearn.datasets import load_iris, load_digits\n",
    "#from sklearn.model_selection import train_test_split\n",
    "import pandas as pd\n",
    "import altair as alt\n",
    "import umap"
   ]
  },
  {
   "cell_type": "code",
   "execution_count": 2,
   "metadata": {},
   "outputs": [
    {
     "data": {
      "text/plain": [
       "DataTransformerRegistry.enable('default')"
      ]
     },
     "execution_count": 2,
     "metadata": {},
     "output_type": "execute_result"
    }
   ],
   "source": [
    "alt.data_transformers.disable_max_rows()"
   ]
  },
  {
   "cell_type": "code",
   "execution_count": null,
   "metadata": {},
   "outputs": [],
   "source": [
    "alt.renderers.enable('notebook')"
   ]
  },
  {
   "cell_type": "markdown",
   "metadata": {},
   "source": [
    "## UMAP redction of gametocyte data"
   ]
  },
  {
   "cell_type": "markdown",
   "metadata": {},
   "source": [
    "### Load and Clean Data"
   ]
  },
  {
   "cell_type": "markdown",
   "metadata": {
    "scrolled": true
   },
   "source": [
    "iris = load_iris()\n",
    "test_df = pd.DataFrame(data=iris.data)\n",
    "embedding = reducer.fit_transform(iris.data)\n",
    "embedding.shape\n",
    "test_df['x'] = embedding[:, 0]\n",
    "test_df['y'] = embedding[:, 1]\n",
    "test_df['label'] = iris.target\n",
    "test_df\n",
    "test_df.columns = ['One', 'Two', 'Three', 'Four', 'x', 'y', 'label']"
   ]
  },
  {
   "cell_type": "code",
   "execution_count": null,
   "metadata": {},
   "outputs": [],
   "source": [
    "data = pd.read_csv('../data/raw_data/rpkm_kent2018.tsv.gz', sep='\\t')\n",
    "data.head()"
   ]
  },
  {
   "cell_type": "code",
   "execution_count": null,
   "metadata": {},
   "outputs": [],
   "source": [
    "#data.set_index(['sample_id', 'gene'], inplace=True)\n",
    "\n",
    "pivot_data = data.pivot(index='sample_id', columns='gene_id')['logRPKM']\n",
    "pivot_data.head()"
   ]
  },
  {
   "cell_type": "code",
   "execution_count": null,
   "metadata": {},
   "outputs": [],
   "source": [
    "reducer = umap.UMAP()"
   ]
  },
  {
   "cell_type": "markdown",
   "metadata": {},
   "source": [
    "pivot_data.describe()"
   ]
  },
  {
   "cell_type": "code",
   "execution_count": null,
   "metadata": {
    "scrolled": true
   },
   "outputs": [],
   "source": [
    "test_em = reducer.fit_transform(pivot_data)\n",
    "#trans_test = umap.UMAP(n_neighbors=5, n_components=2,).fit(pivot_data) #min_dist=0"
   ]
  },
  {
   "cell_type": "code",
   "execution_count": null,
   "metadata": {},
   "outputs": [],
   "source": [
    "test_em[:, 0]\n",
    "test_em[:, 1]"
   ]
  },
  {
   "cell_type": "code",
   "execution_count": null,
   "metadata": {
    "scrolled": true
   },
   "outputs": [],
   "source": [
    "samples = pd.read_csv('sample_sheet.tsv', sep='\\t')\n",
    "samples.sort_values(by=['stage'])"
   ]
  },
  {
   "cell_type": "code",
   "execution_count": null,
   "metadata": {
    "scrolled": true
   },
   "outputs": [],
   "source": [
    "results = pd.DataFrame({\n",
    "    # testing new near neighbour value.\n",
    "    'x': trans_test.embedding_[:, 0],\n",
    "    'y': trans_test.embedding_[:, 1], \n",
    "#     'x': test_em[:, 0],\n",
    "#     'y': test_em[:, 1], \n",
    "    'sample_id': pivot_data.index\n",
    "})\n",
    "\n",
    "\n",
    "results = results.join(samples.set_index('sample_id'), on='sample_id')\n",
    "results_all = results.join(pivot_data, on='sample_id')\n",
    "results\n",
    " "
   ]
  },
  {
   "cell_type": "code",
   "execution_count": null,
   "metadata": {},
   "outputs": [],
   "source": [
    "results_all.head()\n",
    "melt_results = results_all.melt(id_vars=['sample_id', 'rapa_treat', 'x',  'y', 'stage'], value_vars=['strand'])\n",
    "\n",
    "melt_results = melt_results.drop(['value', 'variable'], axis=1)\n",
    "melt_results\n",
    "\n",
    "#pd.melt(df, id_vars=['A'], value_vars=['B', 'C'])"
   ]
  },
  {
   "cell_type": "code",
   "execution_count": null,
   "metadata": {},
   "outputs": [],
   "source": [
    "final_data = data.set_index('sample_id').join(melt_results.set_index('sample_id'), on='sample_id')\n",
    "final_data"
   ]
  },
  {
   "cell_type": "code",
   "execution_count": null,
   "metadata": {},
   "outputs": [],
   "source": [
    "# final_data.to_csv('rpkm_data_umap_coords', sep='\\t')"
   ]
  },
  {
   "cell_type": "markdown",
   "metadata": {},
   "source": [
    "both_data = final_data[['x', 'y', 'logRPKM', 'gene_id']]\n",
    "both_data.head()\n",
    "both_data.to_json(orient='records', path_or_buf='both_data.json')"
   ]
  },
  {
   "cell_type": "code",
   "execution_count": null,
   "metadata": {
    "scrolled": false
   },
   "outputs": [],
   "source": [
    "scale=alt.Scale(domain=(6, 13)) \n",
    "\n",
    "no_rapa = alt.Chart(melt_results[melt_results['rapa_treat']=='no']).mark_point(size=60).encode( #[final_data['rapa_treat']=='no']\n",
    "    alt.X('x', axis=alt.Axis(title=''), type='quantitative'),\n",
    "    alt.Y('y', axis=alt.Axis(title=''), type='quantitative', scale=scale),\n",
    "    tooltip = ['rapa_treat', 'stage'],\n",
    "    color = 'stage:N'\n",
    ")\n",
    "\n",
    "rapa = alt.Chart(melt_results[melt_results['rapa_treat']=='yes']).mark_circle(size=60).encode(\n",
    "    alt.X('x:Q'),\n",
    "    alt.Y('y:Q', scale=scale),\n",
    "    tooltip = ['rapa_treat', 'stage'],\n",
    "    color = 'stage:N'\n",
    ")\n",
    "\n",
    "#input_dropdown = alt.binding_select(options=final_data['gene_id'].unique().tolist())\n",
    "input_dropdown = alt.binding_select(options=['PBANKA_0000201', 'PBANKA_0000301'])\n",
    "selection = alt.selection_single(fields=['gene_id'], bind=input_dropdown, name='Gene ID', clear='false')\n",
    "\n",
    "# genre_dropdown = alt.binding_select(options=genres)\n",
    "# genre_select = alt.selection_single(fields=['Major_Genre'], bind=genre_dropdown, name=\"Genre\")\n",
    "\n",
    "\n",
    "#both = alt.Chart('both_data.json').mark_circle(size=60).encode(\n",
    "#both = alt.Chart(final_data[final_data['gene_id'].isin(['PBANKA_0000201', 'PBANKA_0000301'])]).mark_circle(size=60).encode(\n",
    "both = alt.Chart(both_data).mark_circle(size=60).encode(   \n",
    "    alt.X('x:Q', axis=alt.Axis(title='')), \n",
    "    alt.Y('y:Q', axis=alt.Axis(title=''), scale=scale),\n",
    "    tooltip = ['logRPKM:Q',], # 'rapa_treat:O', 'stage:O'],\n",
    "    color = alt.Color('logRPKM:Q', scale=alt.Scale(scheme='redblue')),\n",
    "#    stroke = alt.value('black'),    \n",
    ").add_selection(\n",
    "    selection\n",
    ").transform_filter(\n",
    "    selection\n",
    ")\n",
    "\n",
    "both_circles = alt.Chart(melt_results).mark_point(size=65).encode( #[final_data['rapa_treat']=='no']\n",
    "    alt.X('x', axis=alt.Axis(title=''), type='quantitative'),\n",
    "    alt.Y('y', axis=alt.Axis(title=''), type='quantitative', scale=scale),\n",
    "    color = alt.value('grey'),\n",
    "    # tooltip = ['rapa_treat', 'stage'],\n",
    ")\n",
    "\n",
    "#selection = alt.selection_single(fields=['Gene'], bind=input_dropdown, name=' ', clear='false')\n",
    "\n",
    "combined = no_rapa + rapa | both_circles + both\n",
    "combined\n",
    "\n",
    "#TODO load from json for both plot to get rpkm values. "
   ]
  },
  {
   "cell_type": "code",
   "execution_count": null,
   "metadata": {},
   "outputs": [],
   "source": [
    "combined.save('combined.html')"
   ]
  },
  {
   "cell_type": "code",
   "execution_count": null,
   "metadata": {},
   "outputs": [],
   "source": [
    "input_dropdown = alt.binding_select(options=final_data['gene_id'].unique().tolist())\n",
    "selection = alt.selection_single(fields=['gene_id'], bind=input_dropdown, name=' ', clear='false')\n",
    "\n",
    "# genre_dropdown = alt.binding_select(options=genres)\n",
    "# genre_select = alt.selection_single(fields=['Major_Genre'], bind=genre_dropdown, name=\"Genre\")\n",
    "\n",
    "# scale=alt.Scale(domain=(6, 12)),\n",
    "\n",
    "both = alt.Chart(final_data).mark_circle(size=60).encode(\n",
    "    alt.X('x', axis=alt.Axis(title='')), \n",
    "    alt.Y('y', axis=alt.Axis(title='')),\n",
    "    tooltip = 'logRPKM:Q',\n",
    "    color = 'logRPKM:Q',\n",
    "     \n",
    ").add_selection(\n",
    "    selection\n",
    ").transform_filter(\n",
    "    selection\n",
    ")\n",
    "\n",
    "\n",
    "both.save('single_coloured.html')"
   ]
  },
  {
   "cell_type": "code",
   "execution_count": null,
   "metadata": {},
   "outputs": [],
   "source": [
    "genre_dropdown = alt.binding_select(options=genres)\n",
    "genre_select = alt.selection_single(fields=['Major_Genre'], bind=genre_dropdown, name=\"Genre\")\n",
    "\n",
    "main.encode(color=alt.condition(selection, 'Gene Data:Q', alt.value('lightgray'))).add_selection(\n",
    "selection\n",
    ").transform_filter(\n",
    "    selection\n",
    ")"
   ]
  },
  {
   "cell_type": "code",
   "execution_count": null,
   "metadata": {},
   "outputs": [],
   "source": [
    "# genes by cell type vector"
   ]
  },
  {
   "cell_type": "code",
   "execution_count": null,
   "metadata": {},
   "outputs": [],
   "source": [
    "all_s = alt.Chart(melt_results).mark_point(size=60).encode( #[final_data['rapa_treat']=='no']\n",
    "    alt.X('x', axis=alt.Axis(title=''), type='quantitative'),\n",
    "    alt.Y('y', axis=alt.Axis(title=''), type='quantitative'),\n",
    "    tooltip = 'sample_id:N',\n",
    "    color = 'stage:N'\n",
    ")\n",
    "\n",
    "all_s "
   ]
  },
  {
   "cell_type": "code",
   "execution_count": null,
   "metadata": {},
   "outputs": [],
   "source": [
    "# umap of genes\n",
    "genes_umap = pivot_data.T\n"
   ]
  },
  {
   "cell_type": "code",
   "execution_count": null,
   "metadata": {},
   "outputs": [],
   "source": [
    "genes_umap.head()"
   ]
  },
  {
   "cell_type": "code",
   "execution_count": null,
   "metadata": {},
   "outputs": [],
   "source": [
    "#test_em_genes = reducer.fit_transform(genes_umap)\n",
    "\n",
    "trans = umap.UMAP(n_neighbors=20, n_components=2, min_dist=0).fit(genes_umap) \n",
    "# n_components"
   ]
  },
  {
   "cell_type": "code",
   "execution_count": null,
   "metadata": {},
   "outputs": [],
   "source": [
    "# test_em[:, 0]\n",
    "# test_em_genes[:, 1]\n",
    "\n",
    "trans.embedding_[:, 1]"
   ]
  },
  {
   "cell_type": "code",
   "execution_count": null,
   "metadata": {},
   "outputs": [],
   "source": [
    "# genes_umap['x'] = test_em_genes[:, 0]\n",
    "# genes_umap['y'] = test_em_genes[:, 1]\n",
    "\n",
    "genes_umap['x'] = trans.embedding_[:, 0]\n",
    "genes_umap['y'] = trans.embedding_[:, 1]\n",
    "# genes_umap['z'] = trans.embedding_[:, 2]\n"
   ]
  },
  {
   "cell_type": "code",
   "execution_count": null,
   "metadata": {},
   "outputs": [],
   "source": [
    "genes_umap.head()"
   ]
  },
  {
   "cell_type": "code",
   "execution_count": null,
   "metadata": {},
   "outputs": [],
   "source": [
    "genes_umap.to_csv('all_genes_umap' ,sep='\\t')"
   ]
  },
  {
   "cell_type": "code",
   "execution_count": null,
   "metadata": {},
   "outputs": [],
   "source": [
    "genes_umap.quantile(0.95)  #describe()"
   ]
  },
  {
   "cell_type": "code",
   "execution_count": null,
   "metadata": {},
   "outputs": [],
   "source": [
    "genes_umap.columns"
   ]
  },
  {
   "cell_type": "code",
   "execution_count": null,
   "metadata": {},
   "outputs": [],
   "source": [
    "genes_umap[['SRX3653212_06h_no_3', 'SRX3653213_24h_no_4', 'x']]"
   ]
  },
  {
   "cell_type": "code",
   "execution_count": null,
   "metadata": {},
   "outputs": [],
   "source": [
    "umap_genes = alt.Chart(genes_umap.reset_index()).mark_circle(size=60).encode(\n",
    "    alt.X('x:Q'),\n",
    "    alt.Y('y:Q'),\n",
    "    tooltip = ['gene_id:N'],\n",
    "     #, bin=alt.Bin(maxbins=5))\n",
    ").properties(\n",
    "    height=600,\n",
    "    width=600\n",
    ").interactive()\n",
    "\n",
    "# umap_genes_z = alt.Chart(genes_umap.reset_index()).mark_circle(size=60).encode(\n",
    "#     alt.X('y:Q'),\n",
    "#     alt.Y('z:Q'),\n",
    "#     tooltip = ['gene_id:N'],\n",
    "#      #, bin=alt.Bin(maxbins=5))\n",
    "# ).properties(\n",
    "#     height=600,\n",
    "#     width=600\n",
    "# ).interactive()\n",
    "\n",
    "l = umap_genes.encode(color = alt.Color('SRX3653199_30h_yes_2:Q', scale=alt.Scale(scheme=\"redblue\")))\n",
    "# l_z = umap_genes.encode(color = alt.Color('SRX3653199_30h_yes_2:Q', scale=alt.Scale(scheme=\"redblue\")))\n",
    "r = umap_genes.encode(color = alt.Color('SRX3653182_00h_yes_1:Q', scale=alt.Scale(scheme=\"redblue\")))\n",
    "\n",
    "l | r"
   ]
  },
  {
   "cell_type": "code",
   "execution_count": null,
   "metadata": {},
   "outputs": [],
   "source": [
    "from bokeh.layouts import gridplot\n",
    "from bokeh.plotting import figure\n",
    "from bokeh.layouts import layout, column\n",
    "from bokeh.models import ColumnDataSource, Div, Whisker\n",
    "from bokeh.models.widgets import Slider, Select, TextInput\n",
    "from bokeh.io import output_notebook, show, output_file\n",
    "from bokeh.models import HoverTool, Legend\n",
    "\n",
    "import pandas as pd\n",
    "import numpy as np\n",
    "\n",
    "\n",
    "output_notebook()\n"
   ]
  },
  {
   "cell_type": "code",
   "execution_count": null,
   "metadata": {},
   "outputs": [],
   "source": [
    "melt_results.head()"
   ]
  },
  {
   "cell_type": "code",
   "execution_count": null,
   "metadata": {},
   "outputs": [],
   "source": [
    "colours = {'00h': '#005ab7', '06h': '#6a4c93', '12h': '#8ac926', '18h': '#ffca3a', '24h': '#fcab10', '30h': '#ff595e'}\n",
    "melt_results['colours'] = melt_results['stage'].map(colours)\n",
    "melt_results.to_csv('umap_data.tab', sep='\\t')"
   ]
  },
  {
   "cell_type": "code",
   "execution_count": null,
   "metadata": {},
   "outputs": [],
   "source": [
    "output_file(\"bokeh_plot.html\")"
   ]
  },
  {
   "cell_type": "code",
   "execution_count": null,
   "metadata": {},
   "outputs": [],
   "source": [
    "final_data.groupby(['x', 'y', 'rapa_treat']).size()"
   ]
  },
  {
   "cell_type": "code",
   "execution_count": null,
   "metadata": {},
   "outputs": [],
   "source": [
    "# Colours for the data\n",
    "colours = {'00h': '#005ab7', '06h': '#6a4c93', '12h': '#8ac926', '18h': '#ffca3a', '24h': '#fcab10', '30h': '#ff595e'}\n",
    "melt_results['colours'] = melt_results['stage'].map(colours)\n",
    "\n",
    "\n",
    "source_xy = ColumnDataSource(final_data[(final_data['gene_id'] == 'PBANKA_0000301')])\n",
    "\n",
    "source_xy_rapa = ColumnDataSource(melt_results[melt_results['rapa_treat'] == 'yes'])\n",
    "source_xy_norapa = ColumnDataSource(melt_results[melt_results['rapa_treat'] == 'no'])\n",
    "\n",
    "# Tools for the charts\n",
    "hover_xy = HoverTool(\n",
    "        tooltips=[\n",
    "            (\"Rapamycin Treatment\", \"@rapa_treat\"),\n",
    "            (\"Stage\", \"@stage\"),\n",
    "        ]\n",
    "    )\n",
    "\n",
    "hover_rpkm = HoverTool(\n",
    "        tooltips=[\n",
    "            (\"Rapamycin Treatment\", \"@rapa_treat\"),\n",
    "            (\"Stage\", \"@stage\"),\n",
    "        ]\n",
    "    )\n",
    "\n",
    "base_plot_options = dict(width=400, plot_height=400, tools=[\"box_select, pan, reset, wheel_zoom\"])\n",
    "\n",
    "xy_plot_options = base_plot_options\n",
    "xy_plot_options['tools'].append(hover_xy)\n",
    "\n",
    "rpkm_plot_options = base_plot_options\n",
    "rpkm_plot_options['tools'].append(hover_rpkm)\n",
    "\n",
    "\n",
    "# Plotting the data - xy from umap\n",
    "xy_data = figure(**xy_plot_options)\n",
    "xy_data.circle('x', 'y', size=10, source=source_xy_rapa, line_width=0, color='colours')\n",
    "xy_data.circle('x', 'y', size=10, source=source_xy_norapa, fill_alpha=0, line_width=2, color='colours')\n",
    "\n",
    "# rpkm color mapper\n",
    "max_c = max(source_xy.data['logRPKM'])\n",
    "min_c = min(source_xy.data['logRPKM'])\n",
    "print(max_c, min_c)\n",
    "\n",
    "from bokeh.models import LinearColorMapper, ColorBar\n",
    "from bokeh.transform import linear_cmap \n",
    "from bokeh.palettes import RdBu\n",
    "mapper = LinearColorMapper(palette='Viridis256', low=min_c, high=max_c)\n",
    "#print(mapper)\n",
    "\n",
    "# colormapper = linear_cmap(field_name = final_data[(final_data['gene_id'] == 'PBANKA_0000301')]['logRPKM'], \n",
    "#                           palette=RdBu, low=min_c, high=max_c)\n",
    "\n",
    "\n",
    "# Plotting the data - rpkm\n",
    "rpkm_data = figure(x_range=xy_data.x_range, y_range=xy_data.y_range ,**rpkm_plot_options, )\n",
    "rpkm_data.circle('x', 'y', size=10, source=source_xy, line_color='grey', fill_color={'field': 'logRPKM', 'transform': mapper})\n",
    "\n",
    "color_bar = ColorBar(color_mapper=mapper, width=8,  location=(0,0))\n",
    "rpkm_data.add_layout(color_bar, 'right')\n",
    "\n",
    "#geneid_input = TextInput(value=\"default\", title=\"Label:\")\n",
    "\n",
    "# LinearColorMapper\n",
    "\n",
    "# Putting plots together in a grid\n",
    "p = gridplot([[xy_data, rpkm_data]])\n",
    "\n",
    "show(p)"
   ]
  },
  {
   "cell_type": "code",
   "execution_count": null,
   "metadata": {},
   "outputs": [],
   "source": [
    "output_file(\"bokeh_plot.html\")\n",
    "\n"
   ]
  },
  {
   "cell_type": "code",
   "execution_count": null,
   "metadata": {},
   "outputs": [],
   "source": [
    "data = pd.read_csv('all_genes_umap', sep='\\t')\n",
    "data.head()"
   ]
  },
  {
   "cell_type": "code",
   "execution_count": null,
   "metadata": {},
   "outputs": [],
   "source": [
    "data[data['gene_id'] == 'PBANKA_0827100']"
   ]
  },
  {
   "cell_type": "code",
   "execution_count": null,
   "metadata": {},
   "outputs": [],
   "source": [
    "data2 = pd.read_csv('rpkm_data_umap_coords', sep='\\t')\n",
    "data2.head()\n",
    "data2.dtypes"
   ]
  },
  {
   "cell_type": "code",
   "execution_count": null,
   "metadata": {},
   "outputs": [],
   "source": [
    "mean_data1 = data2\n",
    "mean_data1['stage'] = mean_data1['stage'].str.replace('h', '').astype('int32')\n",
    "\n",
    "rapa_map = {'yes': 'Rapamycin', 'no': 'No Rapamycin'}\n",
    "\n",
    "mean_data1['rapa_treat'] = mean_data1['rapa_treat'].map(rapa_map)"
   ]
  },
  {
   "cell_type": "code",
   "execution_count": null,
   "metadata": {},
   "outputs": [],
   "source": [
    "mean_data2 = mean_data1.groupby(['gene_id', 'stage', 'rapa_treat']).mean()\n",
    "mean_data3 = mean_data1.groupby(['gene_id', 'stage', 'rapa_treat']).std()\n",
    "mean_data3['std'] = mean_data3['logRPKM']\n",
    "mean_data3 = mean_data3.drop(['logRPKM', 'x', 'y'], axis=1)\n",
    "\n"
   ]
  },
  {
   "cell_type": "code",
   "execution_count": null,
   "metadata": {},
   "outputs": [],
   "source": [
    "new = mean_data2.join(mean_data3, how='right', lsuffix='_mean', rsuffix='_std')\n",
    "new['up_std'] = new['logRPKM'] + mean_data3['std']\n",
    "new['low_std'] = new['logRPKM'] - mean_data3['std']\n",
    "new.to_csv('rpkm_data_mean_stddev', sep='\\t')\n",
    "new"
   ]
  },
  {
   "cell_type": "code",
   "execution_count": null,
   "metadata": {},
   "outputs": [],
   "source": [
    "new.loc['PBANKA_0827100']"
   ]
  },
  {
   "cell_type": "code",
   "execution_count": null,
   "metadata": {},
   "outputs": [],
   "source": [
    "np.mean([-2.686662, -2.686662, -1.902118, -2.686662])"
   ]
  },
  {
   "cell_type": "code",
   "execution_count": null,
   "metadata": {},
   "outputs": [],
   "source": [
    "\n",
    "rapa_data = ColumnDataSource(mean_data2.loc['PBANKA_0000101', :, 'Rapamycin'].reset_index()) \n",
    "no_rapa_data = ColumnDataSource(mean_data2.loc['PBANKA_0000101', :, 'No Rapamycin'].reset_index())\n",
    "\n",
    "p = figure(width=600, height=350, title='logRPKM Change Over Time')\n",
    "\n",
    "p.xaxis.axis_label = 'Time (h)'\n",
    "p.yaxis.axis_label = 'logRPKM'\n",
    "\n",
    "rapa_l = p.line('stage', 'logRPKM', line_width=2, color='#ea2b1f', source=rapa_data, )\n",
    "rapa_c = p.circle('stage', 'logRPKM', fill_color=\"white\", size=8, color='#ea2b1f', source=rapa_data, )\n",
    "no_rapa_l = p.line('stage', 'logRPKM', line_width=2, color='#5fa8d3', source=no_rapa_data, )\n",
    "no_rapa_c = p.circle('stage', 'logRPKM', fill_color=\"white\", size=8, color='#5fa8d3', source=no_rapa_data, )\n",
    "\n",
    "legend = Legend(items=[\n",
    "    (\"Rapamycin\"   , [rapa_l, rapa_c]),\n",
    "    (\"No Rapamycin\" , [no_rapa_l, no_rapa_c]),\n",
    "\n",
    "\n",
    "    ], location=\"center\", orientation='horizontal')\n",
    "\n",
    "p.add_layout(legend, 'below')\n",
    "\n",
    "\n",
    "# w_r = Whisker(source=rapa_data, base='logRPKM', upper=\"std\", lower=\"std\", line_color='#ea2b1f',) #x_range_name='stage')\n",
    "# w_r.upper_head.line_color = '#ea2b1f'\n",
    "# w_r.lower_head.line_color = '#ea2b1f'\n",
    "\n",
    "p.add_layout(w_r)\n",
    "show(p)\n",
    "\n"
   ]
  },
  {
   "cell_type": "code",
   "execution_count": null,
   "metadata": {},
   "outputs": [],
   "source": [
    "rapa_source_data.data['x'] = []\n",
    "rapa_source_data.data['x']"
   ]
  },
  {
   "cell_type": "code",
   "execution_count": null,
   "metadata": {},
   "outputs": [],
   "source": [
    "from random import random\n",
    "\n",
    "from bokeh.layouts import row\n",
    "from bokeh.models import CustomJS, ColumnDataSource\n",
    "from bokeh.plotting import figure, output_file, show\n",
    "from bokeh.models.widgets import DataTable, DateFormatter, TableColumn\n",
    "\n",
    "output_file(\"callback.html\")\n",
    "\n",
    "x = [random() for x in range(500)]\n",
    "y = [random() for y in range(500)]\n",
    "\n",
    "s1 = ColumnDataSource(data=dict(x=x, y=y))\n",
    "p1 = figure(plot_width=400, plot_height=400, tools=\"lasso_select\", title=\"Select Here\")\n",
    "p1.circle('x', 'y', source=s1, alpha=0.6)\n",
    "\n",
    "s2 = ColumnDataSource(data=dict(x=[], y=[]))\n",
    "p2 = figure(plot_width=400, plot_height=400, x_range=(0, 1), y_range=(0, 1),\n",
    "            tools=\"\", title=\"Watch Here\")\n",
    "p2.circle('x', 'y', source=s2, alpha=0.6)\n",
    "\n",
    "s1.selected.js_on_change('indices', CustomJS(args=dict(s1=s1, s2=s2), code=\"\"\"\n",
    "        var inds = cb_obj.indices;\n",
    "        var d1 = s1.data;\n",
    "        var d2 = s2.data;\n",
    "        d2['x'] = []\n",
    "        d2['y'] = []\n",
    "        for (var i = 0; i < inds.length; i++) {\n",
    "            d2['x'].push(d1['x'][inds[i]])\n",
    "            d2['y'].push(d1['y'][inds[i]])\n",
    "        }\n",
    "        s2.change.emit();\n",
    "    \"\"\")\n",
    ")\n",
    "\n",
    "\n",
    "columns = [\n",
    "        TableColumn(field=\"x\", title=\"x\",),\n",
    "        TableColumn(field=\"y\", title=\"y\"),\n",
    "    ]\n",
    "\n",
    "data_table = DataTable(source=s2, columns=columns, width=400, height=280)\n",
    "\n",
    "\n",
    "\n",
    "layout = row(p1, p2, data_table)\n",
    "\n",
    "show(layout)"
   ]
  },
  {
   "cell_type": "code",
   "execution_count": null,
   "metadata": {},
   "outputs": [],
   "source": [
    "# PBANKA_0827100"
   ]
  }
 ],
 "metadata": {
  "kernelspec": {
   "display_name": "Kent2018_GametocyteDev",
   "language": "python",
   "name": "kent2018_gametocytedev"
  },
  "language_info": {
   "codemirror_mode": {
    "name": "ipython",
    "version": 3
   },
   "file_extension": ".py",
   "mimetype": "text/x-python",
   "name": "python",
   "nbconvert_exporter": "python",
   "pygments_lexer": "ipython3",
   "version": "3.7.3"
  },
  "varInspector": {
   "cols": {
    "lenName": 16,
    "lenType": 16,
    "lenVar": 40
   },
   "kernels_config": {
    "python": {
     "delete_cmd_postfix": "",
     "delete_cmd_prefix": "del ",
     "library": "var_list.py",
     "varRefreshCmd": "print(var_dic_list())"
    },
    "r": {
     "delete_cmd_postfix": ") ",
     "delete_cmd_prefix": "rm(",
     "library": "var_list.r",
     "varRefreshCmd": "cat(var_dic_list()) "
    }
   },
   "types_to_exclude": [
    "module",
    "function",
    "builtin_function_or_method",
    "instance",
    "_Feature"
   ],
   "window_display": false
  }
 },
 "nbformat": 4,
 "nbformat_minor": 2
}
